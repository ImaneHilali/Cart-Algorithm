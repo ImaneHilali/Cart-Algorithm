{
 "cells": [
  {
   "cell_type": "markdown",
   "source": [
    "#### Problème 2:\n",
    "\n",
    "Utilisez le modèle d’arbre de décision CART pour l’approximation de la consommation énergétique d’une maison à partir d’un ensemble de données de prévision énergétique des appareils électroménagers.\n",
    "\n",
    "Réalisée par : Imane Hilali, Mohamed Ben Jouad, Reda Ghadouani"
   ],
   "metadata": {
    "collapsed": false
   }
  },
  {
   "cell_type": "code",
   "execution_count": 1,
   "outputs": [
    {
     "name": "stdout",
     "output_type": "stream",
     "text": [
      "                  date  Appliances  lights     T1       RH_1    T2       RH_2   \n",
      "0  2016-01-11 17:00:00          60      30  19.89  47.596667  19.2  44.790000  \\\n",
      "1  2016-01-11 17:10:00          60      30  19.89  46.693333  19.2  44.722500   \n",
      "2  2016-01-11 17:20:00          50      30  19.89  46.300000  19.2  44.626667   \n",
      "3  2016-01-11 17:30:00          50      40  19.89  46.066667  19.2  44.590000   \n",
      "4  2016-01-11 17:40:00          60      40  19.89  46.333333  19.2  44.530000   \n",
      "\n",
      "      T3       RH_3         T4  ...         T9   RH_9     T_out  Press_mm_hg   \n",
      "0  19.79  44.730000  19.000000  ...  17.033333  45.53  6.600000        733.5  \\\n",
      "1  19.79  44.790000  19.000000  ...  17.066667  45.56  6.483333        733.6   \n",
      "2  19.79  44.933333  18.926667  ...  17.000000  45.50  6.366667        733.7   \n",
      "3  19.79  45.000000  18.890000  ...  17.000000  45.40  6.250000        733.8   \n",
      "4  19.79  45.000000  18.890000  ...  17.000000  45.40  6.133333        733.9   \n",
      "\n",
      "   RH_out  Windspeed  Visibility  Tdewpoint        rv1        rv2  \n",
      "0    92.0   7.000000   63.000000        5.3  13.275433  13.275433  \n",
      "1    92.0   6.666667   59.166667        5.2  18.606195  18.606195  \n",
      "2    92.0   6.333333   55.333333        5.1  28.642668  28.642668  \n",
      "3    92.0   6.000000   51.500000        5.0  45.410389  45.410389  \n",
      "4    92.0   5.666667   47.666667        4.9  10.084097  10.084097  \n",
      "\n",
      "[5 rows x 29 columns]\n"
     ]
    }
   ],
   "source": [
    "import pandas as pd\n",
    "import numpy as np\n",
    "\n",
    "## Charger les  données Titanic à partir d'un fichier CSV\n",
    "data = pd.read_csv(\"C:\\\\Users\\\\dell i7 8 5500\\\\Downloads\\\\Appliances_energy\\\\energydata_complete.csv\")\n",
    "\n",
    "print(data.head())\n"
   ],
   "metadata": {
    "collapsed": false
   }
  },
  {
   "cell_type": "code",
   "execution_count": 4,
   "outputs": [],
   "source": [
    "import pandas as pd\n",
    "\n",
    "data['date'] = pd.to_datetime(data['date'])  # Convert the column to datetime format\n",
    "\n",
    "# Extract relevant features\n",
    "data['year'] = data['date'].dt.year\n",
    "data['month'] = data['date'].dt.month\n",
    "data['day'] = data['date'].dt.day\n",
    "data['hour'] = data['date'].dt.hour\n",
    "data['minute'] = data['date'].dt.minute\n",
    "\n",
    "# Drop the original date_time column if desired\n",
    "data.drop('date', axis=1, inplace=True)\n"
   ],
   "metadata": {
    "collapsed": false,
    "ExecuteTime": {
     "start_time": "2023-06-08T18:41:50.081363Z",
     "end_time": "2023-06-08T18:41:50.173744Z"
    }
   }
  },
  {
   "cell_type": "markdown",
   "source": [
    "La classe Node représente les nœuds de l'arbre de décision.\n",
    "Chaque nœud peut être un nœud de décision (avec des attributs tels que feature_index, threshold, left, right, var_red)\n",
    "ou un nœud feuille (avec l'attribut value qui représente la valeur de prédiction)."
   ],
   "metadata": {
    "collapsed": false
   }
  },
  {
   "cell_type": "code",
   "execution_count": 5,
   "outputs": [],
   "source": [
    "#Constructor for the Node class\n",
    "class Node:\n",
    "    def __init__(self,feature_index=None,threshold=None,left=None,right=None,var_red=None,value=None):\n",
    "        # For decision node\n",
    "        self.feature_index = feature_index\n",
    "        self.threshold = threshold\n",
    "        self.left = left\n",
    "        self.right = right\n",
    "        self.var_red = var_red\n",
    "        # For leaf node\n",
    "        self.value = value"
   ],
   "metadata": {
    "collapsed": false,
    "ExecuteTime": {
     "start_time": "2023-06-08T18:42:04.400456Z",
     "end_time": "2023-06-08T18:42:04.530046Z"
    }
   }
  },
  {
   "cell_type": "markdown",
   "source": [
    "La classe DecisionTreeRegressor représente le modèle de régression par arbre de décision.\n",
    "Elle contient les méthodes et attributs nécessaires pour construire et utiliser l'arbre de décision."
   ],
   "metadata": {
    "collapsed": false
   }
  },
  {
   "cell_type": "code",
   "execution_count": 6,
   "outputs": [],
   "source": [
    "class DecisionTreeRegressor:\n",
    "    # Constructor for the DecisionTreeRegressor class\n",
    "    def __init__(self, min_samples_split=2, max_depth=2):\n",
    "        # Initialize the root of the tree\n",
    "        self.root = None\n",
    "        # Stopping conditions\n",
    "        self.min_samples_split = min_samples_split\n",
    "        self.max_depth = max_depth\n",
    "\n",
    "    #La méthode build_tree est une fonction récursive qui construit l'arbre de décision en utilisant les données d'entraînement X et les valeurs cibles Y. Elle divise récursivement les données en fonction des critères de division (meilleur split) jusqu'à ce que les conditions d'arrêt soient atteintes (nombre minimal d'échantillons ou profondeur maximale de l'arbre).\n",
    "    def build_tree(self, X, Y, curr_depth=0):\n",
    "        num_samples, num_features = X.shape\n",
    "        best_split = {}\n",
    "        # Split until stopping conditions are met\n",
    "\n",
    "        if num_samples >= self.min_samples_split and curr_depth <= self.max_depth:\n",
    "            best_split = self.get_best_split(X, Y, num_samples, num_features)\n",
    "\n",
    "            # Check if variance reduction is positive\n",
    "            if best_split['var_red'] > 0:\n",
    "                # Recur left\n",
    "                left_subtree = self.build_tree(best_split['X_left'], best_split['Y_left'], curr_depth + 1)\n",
    "                # Recur right\n",
    "                right_subtree = self.build_tree(best_split['X_right'], best_split['Y_right'], curr_depth + 1)\n",
    "                # Return decision node\n",
    "                return Node(best_split['feature_index'], best_split['threshold'], left_subtree, right_subtree, best_split['var_red'])\n",
    "\n",
    "        # Compute leaf node\n",
    "        leaf_value = np.mean(Y)\n",
    "        # Return leaf node\n",
    "        return Node(value=leaf_value)\n",
    "\n",
    "    #La méthode get_best_split est utilisée pour trouver le meilleur critère de division (meilleur split) en parcourant toutes les caractéristiques et tous les seuils possibles. Elle utilise la mesure de réduction de variance pour évaluer la qualité de chaque split.\n",
    "    # Function to find the best split\n",
    "    def get_best_split(self, X, Y, num_samples, num_features):\n",
    "\n",
    "        best_split = {}\n",
    "        max_var_red = -float('inf')\n",
    "\n",
    "        for feature_index in range(num_features):\n",
    "            feature_values = X[:, feature_index]\n",
    "            unique_thresholds = np.unique(feature_values)\n",
    "\n",
    "            for threshold in unique_thresholds:\n",
    "                X_left, Y_left, X_right, Y_right = self.split(X, Y, feature_index, threshold)\n",
    "\n",
    "                if len(X_left) > 0 and len(X_right) > 0:\n",
    "                    curr_var_red = self.variance_reduction(Y, Y_left, Y_right)\n",
    "\n",
    "                    if curr_var_red > max_var_red:\n",
    "                        best_split['feature_index'] = feature_index\n",
    "                        best_split['threshold'] = threshold\n",
    "                        best_split['X_left'] = X_left\n",
    "                        best_split['Y_left'] = Y_left\n",
    "                        best_split['X_right'] = X_right\n",
    "                        best_split['Y_right'] = Y_right\n",
    "                        best_split['var_red'] = curr_var_red\n",
    "                        max_var_red = curr_var_red\n",
    "\n",
    "        return best_split\n",
    "\n",
    "    #La méthode split est utilisée pour diviser les données en deux sous-ensembles en fonction d'un critère de division spécifique (caractéristique et seuil).\n",
    "    # Function to split the data\n",
    "    def split(self, X, Y, feature_index, threshold):\n",
    "        mask = X[:, feature_index] <= threshold\n",
    "        X_left = X[mask]\n",
    "        Y_left = Y[mask]\n",
    "        X_right = X[~mask]\n",
    "        Y_right = Y[~mask]\n",
    "\n",
    "        return X_left, Y_left, X_right, Y_right\n",
    "\n",
    "    #La méthode variance_reduction est utilisée pour calculer la réduction de variance lors de la division des données en deux sous-ensembles.\n",
    "    # Function to compute variance reduction\n",
    "    def variance_reduction(self, parent, left_child, right_child):\n",
    "\n",
    "        weight_l = len(left_child) / len(parent)\n",
    "        weight_r = len(right_child) / len(parent)\n",
    "        reduction = np.var(parent) - (weight_l * np.var(left_child) + weight_r * np.var(right_child))\n",
    "\n",
    "        return reduction\n",
    "\n",
    "    #La méthode print_tree est utilisée pour afficher l'arbre de décision à l'écran. Elle parcourt récursivement l'arbre en utilisant un indent pour représenter les niveaux de profondeur.\n",
    "    # Function to print the tree\n",
    "    def print_tree(self, tree=None, indent=''):\n",
    "\n",
    "        if not tree:\n",
    "            tree = self.root\n",
    "\n",
    "        if tree.value is not None:\n",
    "            print(tree.value)\n",
    "        else:\n",
    "            print(f'X_{tree.feature_index} <= {tree.threshold} ? {tree.var_red}')\n",
    "            print(f'{indent}left:', end='')\n",
    "            self.print_tree(tree.left, indent + '    ')\n",
    "            print(f'{indent}right:', end='')\n",
    "            self.print_tree(tree.right, indent + '    ')\n",
    "\n",
    "    # La méthode fit est utilisée pour entraîner le modèle en construisant l'arbre de décision à partir des données d'entraînement.\n",
    "    # Function to train the tree\n",
    "    def fit(self, X, Y):\n",
    "        self.root = self.build_tree(X, Y)\n",
    "\n",
    "    #La méthode make_prediction est utilisée pour prédire la valeur cible d'un nouvel exemple en parcourant l'arbre de décision à partir de la racine.\n",
    "    # Function to predict a new data point\n",
    "    def make_prediction(self, x, tree):\n",
    "\n",
    "        if tree.value is not None:\n",
    "            return tree.value\n",
    "\n",
    "        feature_val = x[tree.feature_index]\n",
    "\n",
    "        if feature_val <= tree.threshold:\n",
    "            return self.make_prediction(x, tree.left)\n",
    "        else:\n",
    "            return self.make_prediction(x, tree.right)\n",
    "\n",
    "    #La méthode predict est utilisée pour prédire les valeurs cibles pour plusieurs exemples en utilisant la méthode make_prediction.\n",
    "    # Function to predict for multiple data points\n",
    "    def predict(self, X):\n",
    "        predictions = [self.make_prediction(x, self.root) for x in X]\n",
    "        return predictions\n"
   ],
   "metadata": {
    "collapsed": false,
    "ExecuteTime": {
     "start_time": "2023-06-08T18:42:08.090347Z",
     "end_time": "2023-06-08T18:42:08.140461Z"
    }
   }
  },
  {
   "cell_type": "code",
   "execution_count": 7,
   "outputs": [],
   "source": [
    "# Separating independent variables (features) and dependent variable (target)\n",
    "X = data.drop(['Appliances'], axis=1)  # Independent variables\n",
    "y = data['Appliances']  # Dependent variable\n",
    "\n",
    "X1 = X.iloc[:, :-1].values\n",
    "Y1 = y.values.reshape(-1, 1)  # Reshape y to have a 2D shape\n",
    "\n",
    "from sklearn.model_selection import train_test_split\n",
    "X_train, X_test, Y_train, Y_test = train_test_split(X1, Y1, test_size=0.2, random_state=41)\n"
   ],
   "metadata": {
    "collapsed": false,
    "ExecuteTime": {
     "start_time": "2023-06-08T18:42:12.423793Z",
     "end_time": "2023-06-08T18:42:13.275164Z"
    }
   }
  },
  {
   "cell_type": "code",
   "execution_count": null,
   "outputs": [],
   "source": [
    "regressor = DecisionTreeRegressor(min_samples_split=5, max_depth=3)\n",
    "regressor.fit(X_train,Y_train)\n",
    "regressor.print_tree()"
   ],
   "metadata": {
    "collapsed": false,
    "ExecuteTime": {
     "start_time": "2023-06-07T23:04:37.811230Z",
     "end_time": "2023-06-07T23:18:33.262540Z"
    },
    "pycharm": {
     "is_executing": true
    }
   }
  },
  {
   "cell_type": "code",
   "execution_count": 17,
   "outputs": [],
   "source": [
    "#make predictions\n",
    "Y_pred = regressor.predict(X_test)"
   ],
   "metadata": {
    "collapsed": false,
    "ExecuteTime": {
     "start_time": "2023-06-07T23:23:26.543540Z",
     "end_time": "2023-06-07T23:23:26.606302Z"
    }
   }
  },
  {
   "cell_type": "code",
   "execution_count": 27,
   "outputs": [
    {
     "data": {
      "text/plain": "<Figure size 640x480 with 1 Axes>",
      "image/png": "[encoded data removed]"
     },
     "metadata": {},
     "output_type": "display_data"
    }
   ],
   "source": [
    "from sklearn import tree\n",
    "from matplotlib import pyplot as plt\n",
    "\n",
    "regressor1 = DecisionTreeRegressor(min_samples_split=3, max_depth=3)\n",
    "regressor1.fit(X_train,Y_train)\n",
    "tree.plot_tree(regressor1)\n",
    "plt.show()"
   ],
   "metadata": {
    "collapsed": false,
    "ExecuteTime": {
     "start_time": "2023-06-08T00:15:05.895870Z",
     "end_time": "2023-06-08T00:15:07.503595Z"
    }
   }
  },
  {
   "cell_type": "code",
   "execution_count": 28,
   "outputs": [
    {
     "data": {
      "text/plain": "95.12377921863644"
     },
     "execution_count": 28,
     "metadata": {},
     "output_type": "execute_result"
    }
   ],
   "source": [
    "from sklearn.metrics import mean_squared_error\n",
    "\n",
    "np.sqrt(mean_squared_error(Y_test, Y_pred))"
   ],
   "metadata": {
    "collapsed": false,
    "ExecuteTime": {
     "start_time": "2023-06-08T00:15:24.769872Z",
     "end_time": "2023-06-08T00:15:24.895169Z"
    }
   }
  },
  {
   "cell_type": "markdown",
   "source": [
    "le MSE est égal à 95.12377921863644. Cela signifie que, en moyenne, les prédictions de votre modèle ont une erreur quadratique de 95.12 par rapport aux valeurs réelles de la variable cible. Un MSE élevé indique une performance médiocre du modèle, car les erreurs sont importantes."
   ],
   "metadata": {
    "collapsed": false
   }
  },
  {
   "cell_type": "code",
   "execution_count": 29,
   "outputs": [
    {
     "name": "stdout",
     "output_type": "stream",
     "text": [
      "R2 Score: 0.12963689113069954\n"
     ]
    }
   ],
   "source": [
    "from sklearn.metrics import r2_score\n",
    "\n",
    "r2 = r2_score(Y_test, Y_pred)\n",
    "print(\"R2 Score:\", r2)"
   ],
   "metadata": {
    "collapsed": false,
    "ExecuteTime": {
     "start_time": "2023-06-08T00:15:29.163229Z",
     "end_time": "2023-06-08T00:15:29.298888Z"
    }
   }
  },
  {
   "cell_type": "markdown",
   "source": [
    "Le R-squared est égal à 0.12963689113069954, ce qui suggère que votre modèle explique seulement environ 12.96% de la variance totale des données. Cela indique une faible adéquation du modèle aux données, car une grande partie de la variance reste non expliquée."
   ],
   "metadata": {
    "collapsed": false
   }
  },
  {
   "cell_type": "code",
   "execution_count": null,
   "outputs": [],
   "source": [],
   "metadata": {
    "collapsed": false
   }
  }
 ],
 "metadata": {
  "kernelspec": {
   "display_name": "Python 3",
   "language": "python",
   "name": "python3"
  },
  "language_info": {
   "codemirror_mode": {
    "name": "ipython",
    "version": 2
   },
   "file_extension": ".py",
   "mimetype": "text/x-python",
   "name": "python",
   "nbconvert_exporter": "python",
   "pygments_lexer": "ipython2",
   "version": "2.7.6"
  }
 },
 "nbformat": 4,
 "nbformat_minor": 0
}
